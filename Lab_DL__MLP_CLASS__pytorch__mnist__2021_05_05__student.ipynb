{
  "cells": [
    {
      "cell_type": "markdown",
      "metadata": {
        "id": "WpYK9fIlyZCq"
      },
      "source": [
        "# Lab Deep Learning / Multi-Layer Perceptron for classification / in pytorch\n",
        "\n",
        "**Author: geoffroy.peeters@telecom-paris.fr**\n",
        "\n",
        "For any remark or suggestion, please feel free to contact me.\n",
        "\n",
        "Last edit: 2020/04/27 peeters\n",
        "\n",
        "Read the \"introduction to pytorch\" slides first: https://perso.telecom-paristech.fr/gpeeters/doc/pytorch/\n",
        "\n",
        "**Is is recommended that you first perform the ```Lab Deep Learning / Multi-Layer Perceptron for regression / in pytorch``` Lab to understand how to write a Neural Network in pytorch.**\n",
        "\n",
        "\n",
        "## Objective:\n",
        "\n",
        "The objective of this lab is to develop a two hidden layers MLP to perform image **classification**.\n",
        "\n",
        "While the previous Lab ```Lab Deep Learning / Multi-Layer Perceptron for regression / in pytorch``` focused on how to write a Neural Network, the present Lab focuses on managing datasets and splitting training and testing .\n",
        "\n",
        "We will use MNIST for the image dataset.\n",
        "\n",
        "## Your task:\n",
        "\n",
        "You need to add the missing parts in the code (parts between ```# --- START CODE HERE``` and ```# --- END CODE HERE```)\n",
        "\n",
        "## Documentation:\n",
        "- NN: https://pytorch.org/docs/stable/nn.html\n",
        "- Autograd: https://pytorch.org/docs/stable/autograd.html\n",
        "- Optim: https://pytorch.org/docs/stable/optim.html\n"
      ]
    },
    {
      "cell_type": "code",
      "execution_count": 18,
      "metadata": {
        "id": "h6o3NZfNyZCt"
      },
      "outputs": [],
      "source": [
        "import torch\n",
        "import torch.nn as nn\n",
        "import torch.nn.functional as F\n",
        "import torch.optim as optim\n",
        "from torchvision import datasets, transforms\n",
        "import matplotlib.pyplot as plt"
      ]
    },
    {
      "cell_type": "markdown",
      "metadata": {
        "id": "Vy7u-IVkyZCu"
      },
      "source": [
        "## Data management\n",
        "\n",
        "It is common to separate the datasets into\n",
        "- a **training** part (used to find the network parameters which minimize the loss)\n",
        "- a **test part** (used to estimate the performances).\n",
        "\n",
        "The training part can itself be further splitted into a training and a validation part (the validation part is then used to fix the hyper-parameters of the system).\n",
        "\n",
        "When performing ```batch gradient descent``` the whole training set is used to compute the gradients (which itself is used for the parameter optimization).\n",
        "However when performing ```stochastic or mini-batch gradient descent``` only a part of the training data is used at each iteration.\n",
        "\n",
        "We therefore needs to write all the necessary code, to get these mini-batches of data, be sure that all data have been seen, potentially randomize the order of appearance of these data and potentially perform some modifications of the data before giving them to the network.\n",
        "\n",
        "Fortunatelly, pytorch has associated to it (but not included in it) a nice package (```torchvision```) which allows to do all that for us.\n",
        "\n",
        "This package allows to perform these process for any datasets but has a pre-tuned method for the ```MNIST```datasets.\n",
        "\n",
        "### Datasets\n",
        "\n",
        "In the following we will us ```datasets.MNIST``` to load the train and test data.\n",
        "\n",
        "We need to tell it to download the data, where to dowload them and if we want the training or the testing part of it.\n",
        "\n",
        "We then tell it if we want to apply some transformations to the data.\n",
        "\n",
        "For this lab, we will transform the data by\n",
        "- 1) transforming them to torch tensors (using ```transforms.ToTensor()```); since by default they are not torch tensors\n",
        "- 2) normalize them to zero mean and unit standard deviation (using ```transforms.Normalize()```).\n",
        "\n",
        "It is of course possible to also apply data augmentation.\n",
        "\n",
        "Since we have several transforms to be performed, we will compose them using ```transforms.Compose([transform1, transform2])```\n",
        "\n",
        "The corresponding datasets is a class which contains the pairs of [input tensors $X$, corresponding ground-truth label $y$].\n",
        "\n",
        "### Dataloader\n",
        "\n",
        "Another nice pytorch facility is the ```Dataloader``` which transforms the dataset to be used as an iterator (i.e. within ```for data in myDataloader: ```).\n",
        "\n",
        "Moreover, ```Dataloader``` allows to specify\n",
        "- how many data will be provided each time it is called (```batch_size```)\n",
        "- if the order of appearance of the data with be random (````shuffle````).\n",
        "\n",
        "We therefore convert our datasets (train and test) to ```DataLoader``` that are directly used as iterator during the iterations (it DataLoader manage directly the mini-batch and shuffling)."
      ]
    },
    {
      "cell_type": "code",
      "execution_count": 19,
      "metadata": {
        "id": "zsSEvakPyZCv"
      },
      "outputs": [],
      "source": [
        "# --- START CODE HERE\n",
        "myTransform = transforms.Compose([transforms.ToTensor(), transforms.Normalize((0.1307,), (0.3081,))])\n",
        "train_set = datasets.MNIST('data', train=True, download=True, transform=myTransform)\n",
        "train_loader = torch.utils.data.DataLoader(train_set, batch_size=64, shuffle=True)\n",
        "test_set = datasets.MNIST('data', train=False, download=True, transform=myTransform)\n",
        "test_loader = torch.utils.data.DataLoader(test_set, batch_size=64, shuffle=True)\n",
        "# --- END CODE HERE"
      ]
    },
    {
      "cell_type": "code",
      "execution_count": 20,
      "metadata": {
        "colab": {
          "base_uri": "https://localhost:8080/",
          "height": 240
        },
        "id": "FFuEXr0tyZCw",
        "outputId": "59ad5329-e7b3-4dd3-f0f7-79bbbcfde7f7"
      },
      "outputs": [
        {
          "name": "stdout",
          "output_type": "stream",
          "text": [
            "dataset type: <class 'torchvision.datasets.mnist.MNIST'>\n",
            "dataset size: 60000\n",
            "X data: torch.Size([1, 28, 28])\n",
            "y data: 5\n"
          ]
        }
      ],
      "source": [
        "print(\"dataset type: {}\".format(type(train_set)))\n",
        "print(\"dataset size: {}\".format(len(train_set)))\n",
        "print(\"X data: {}\".format(train_set[0][0].size()))\n",
        "print(\"y data: {}\".format(train_set[0][1]))"
      ]
    },
    {
      "cell_type": "markdown",
      "metadata": {
        "id": "piAf25dxyZCx"
      },
      "source": [
        "### Display the first 5 data of MNIST dataset."
      ]
    },
    {
      "cell_type": "code",
      "execution_count": 21,
      "metadata": {
        "id": "Jsa2MAEhyZCx"
      },
      "outputs": [
        {
          "data": {
            "image/png": "[encoded data removed]",
            "text/plain": [
              "<Figure size 640x480 with 5 Axes>"
            ]
          },
          "metadata": {},
          "output_type": "display_data"
        }
      ],
      "source": [
        "# ------------------------------------\n",
        "for num in range(0,5):\n",
        "    one_data = next(iter(train_loader))\n",
        "    plt.subplot(1,5,num+1)\n",
        "    plt.imshow(one_data[0][0][0,:,:])\n",
        "    plt.title(one_data[1][0].item())"
      ]
    },
    {
      "cell_type": "markdown",
      "metadata": {
        "id": "bo6-KX8UyZCy"
      },
      "source": [
        "## Network setting\n",
        "\n",
        "While image classification, is usually performed using Convolutional Neural Networks, we will use here a Multi-Layer-Perceptron (also named ```fully-connected```).\n",
        "For this, we will flatten (i.e. convert the iamge 2D matrix to a 1D vector) the input images.\n",
        "\n",
        "- The input images are of size 28*28 and are converted to vectors of size ```n_in```=784.\n",
        "\n",
        "- The two hidden layers have````n_h1````=500 and ```n_h2```=256 unit/neurons each and ```Relu```activations.\n",
        "\n",
        "- The output are the ```n_out```=10 classes (the 10 digits to be recognized).\n",
        "\n",
        "Since we deal with a muti-class problem (10 classes), the output activations is therefore a ```softmax```.\n",
        "\n",
        "Note that since the ```softmax```output will be given to a ```cross-entropy```, the ```log```et the latter can be directly added to the ```softmax```. This leads to the pytorch function ```F.log_softmax```.\n"
      ]
    },
    {
      "cell_type": "code",
      "execution_count": 22,
      "metadata": {
        "id": "H0uIIQb9yZCy"
      },
      "outputs": [],
      "source": [
        "class Net(nn.Module):\n",
        "    def __init__(self):\n",
        "        n_in = 28*28\n",
        "        n_h1 = 500\n",
        "        n_h2 = 256\n",
        "        n_out = 10\n",
        "        super(Net, self).__init__()\n",
        "        # --- START CODE HERE\n",
        "        self.fc1 = nn.Linear(n_in, n_h1)\n",
        "        self.act1 = nn.ReLU()\n",
        "        self.fc2 = nn.Linear(n_h1, n_h2)\n",
        "        self.act2 = nn.ReLU()\n",
        "        self.fc3 = nn.Linear(n_h2, n_out)\n",
        "        \n",
        "        # --- END CODE HERE\n",
        "    def forward(self, x):\n",
        "        # --- START CODE HERE\n",
        "        x = x.view(-1, 28*28)\n",
        "        x = self.fc1(x)\n",
        "        x = self.act1(x)\n",
        "        x = self.fc2(x)\n",
        "        x = self.act2(x)\n",
        "        x = self.fc3(x)\n",
        "        # --- END CODE HERE\n",
        "        return F.log_softmax(x, dim=1)"
      ]
    },
    {
      "cell_type": "markdown",
      "metadata": {
        "id": "x7qcgKFwyZCz"
      },
      "source": [
        "## Defining the train and test functions\n",
        "\n",
        "In the present lab, we distinguish between train and test data.\n",
        "We therefore write\n",
        "- a train function (to learn the network parameters on the train data),\n",
        "- a test function (to evaluate the network's performances on the test data).\n",
        "\n",
        "The ```train``` and ```test```function will perform the computation for a given ```epoch```.\n",
        "The functions therefore only need to ```loop over``` the mini-batches.\n",
        "This is now easy since we defined our ```Dataloader```for train and test.\n",
        "\n",
        "For the train function, for each mini-batch, we  \n",
        "- compute the forward pass by passing the data to the model: haty = model(x)\n",
        "- compute the the loss (the criterion)\n",
        "- putting at zero the gradients of all the parameters of the network (this is important since, by default, pytorch accumulate the gradients over time)\n",
        "- computing the backpropagation (using as before .backward())\n",
        "- performing one step of optimization (using .step())\n",
        "\n",
        "For the train function, we set the model to train mode (```model.train()```). This allows to set some specific behaviours for training (such as activate the dropout).\n",
        "\n",
        "For the test function, we set the model to train mode (```model.eval()```). This allows to set some specific behaviours for training (such as removing the dropout).\n",
        "\n",
        "\n",
        "Since we are dealing with a multi-class problem (10 classes), we will minimize as loss the ```cross-entropy``` (named negative-log-likelihood ```nll_loss```in pytorch).\n",
        "Since ```nll_loss```does not contains the ```log``` we have added it directly to the softmax by using the ```log_softmax```as output activation of our network.\n",
        "\n",
        "Note that we could use the loss from the nn package (```torch.nn.NLLLoss```) it is then a class which needs to be first instanciated.\n",
        "We can also use the same but as a function (```F.nll_loss()```) which can be used directly without instanciating the class."
      ]
    },
    {
      "cell_type": "code",
      "execution_count": 23,
      "metadata": {
        "id": "3dGuPt96yZCz"
      },
      "outputs": [],
      "source": [
        "def train(model, train_loader, optimizer, epoch):\n",
        "    model.train()\n",
        "    for batch_idx, (data, target) in enumerate(train_loader):\n",
        "        # --- START CODE HERE\n",
        "        optimizer.zero_grad()\n",
        "        output = model(data)\n",
        "        loss = F.nll_loss(output, target)\n",
        "        loss.backward()\n",
        "        optimizer.step()\n",
        "        # --- END CODE HERE\n",
        "\n",
        "        if batch_idx % 100 == 0:\n",
        "            print('epoch {}, loss {}'.format(epoch, loss.item()))"
      ]
    },
    {
      "cell_type": "code",
      "execution_count": 24,
      "metadata": {
        "id": "zI8QtzV2yZC0"
      },
      "outputs": [],
      "source": [
        "def test(model, test_loader):\n",
        "    model.eval()\n",
        "    test_loss = 0\n",
        "    correct = 0\n",
        "    with torch.no_grad():\n",
        "        for data, target in test_loader:\n",
        "            # --- START CODE HERE\n",
        "            output = model(data)\n",
        "            test_loss += F.nll_loss(output, target, reduction='sum').item()\n",
        "            pred = output.argmax(dim=1, keepdim=True)\n",
        "            correct += pred.eq(target.view_as(pred)).sum().item()\n",
        "            # --- STOP CODE HERE\n",
        "\n",
        "    test_loss /= len(test_loader.dataset)\n",
        "    correct /= len(test_loader.dataset)\n",
        "    print('\\nTest set: Average loss: {}, Accuracy: {}\\n'.format(test_loss, correct))"
      ]
    },
    {
      "cell_type": "markdown",
      "metadata": {
        "id": "9MXQIbcJyZC0"
      },
      "source": [
        "## Looping over epochs\n",
        "\n",
        "\n",
        "We finally define, how we will optimize our parameters by defining an optimizer.\n",
        "We will use here a very simple one: the SGD (```optim.SGD```) with a learning rate of 0.01.\n",
        "\n",
        "At each iteration, we then call the train and the test function."
      ]
    },
    {
      "cell_type": "code",
      "execution_count": 25,
      "metadata": {
        "id": "ofYcX05ZyZC0"
      },
      "outputs": [
        {
          "name": "stdout",
          "output_type": "stream",
          "text": [
            "epoch 1, loss 2.308096170425415\n",
            "epoch 1, loss 0.24527639150619507\n",
            "epoch 1, loss 0.3788702189922333\n",
            "epoch 1, loss 0.5406765937805176\n",
            "epoch 1, loss 0.14844201505184174\n",
            "epoch 1, loss 0.2094392329454422\n",
            "epoch 1, loss 0.1756623536348343\n",
            "epoch 1, loss 0.08213324844837189\n",
            "epoch 1, loss 0.0634855255484581\n",
            "epoch 1, loss 0.2727906405925751\n",
            "\n",
            "Test set: Average loss: 0.12651594969034194, Accuracy: 0.9614\n",
            "\n",
            "epoch 2, loss 0.08716960996389389\n",
            "epoch 2, loss 0.11477553844451904\n",
            "epoch 2, loss 0.08991197496652603\n",
            "epoch 2, loss 0.09121869504451752\n",
            "epoch 2, loss 0.20066505670547485\n",
            "epoch 2, loss 0.05620518699288368\n",
            "epoch 2, loss 0.02421529032289982\n",
            "epoch 2, loss 0.09740543365478516\n",
            "epoch 2, loss 0.07236024737358093\n",
            "epoch 2, loss 0.01941000297665596\n",
            "\n",
            "Test set: Average loss: 0.09511684584990143, Accuracy: 0.9696\n",
            "\n",
            "epoch 3, loss 0.02148943953216076\n",
            "epoch 3, loss 0.06024331599473953\n",
            "epoch 3, loss 0.11718107759952545\n",
            "epoch 3, loss 0.13298358023166656\n",
            "epoch 3, loss 0.10465064644813538\n",
            "epoch 3, loss 0.06456466764211655\n",
            "epoch 3, loss 0.022625107318162918\n",
            "epoch 3, loss 0.010438370518386364\n",
            "epoch 3, loss 0.041604749858379364\n",
            "epoch 3, loss 0.09359017759561539\n",
            "\n",
            "Test set: Average loss: 0.06832043017148971, Accuracy: 0.9788\n",
            "\n",
            "epoch 4, loss 0.015459826216101646\n",
            "epoch 4, loss 0.0058494918048381805\n",
            "epoch 4, loss 0.0159180648624897\n",
            "epoch 4, loss 0.0023921942338347435\n",
            "epoch 4, loss 0.02428746595978737\n",
            "epoch 4, loss 0.1149991899728775\n",
            "epoch 4, loss 0.07673231512308121\n",
            "epoch 4, loss 0.03987795487046242\n",
            "epoch 4, loss 0.10387346893548965\n",
            "epoch 4, loss 0.07890468835830688\n",
            "\n",
            "Test set: Average loss: 0.06186736311614514, Accuracy: 0.9795\n",
            "\n",
            "epoch 5, loss 0.003014202695339918\n",
            "epoch 5, loss 0.024163199588656425\n",
            "epoch 5, loss 0.007267761044204235\n",
            "epoch 5, loss 0.011932085268199444\n",
            "epoch 5, loss 0.03411224111914635\n",
            "epoch 5, loss 0.034208446741104126\n",
            "epoch 5, loss 0.01203509047627449\n",
            "epoch 5, loss 0.09932810068130493\n",
            "epoch 5, loss 0.06802898645401001\n",
            "epoch 5, loss 0.03613852337002754\n",
            "\n",
            "Test set: Average loss: 0.06280265614539385, Accuracy: 0.9802\n",
            "\n",
            "epoch 6, loss 0.04544705152511597\n",
            "epoch 6, loss 0.08039909601211548\n",
            "epoch 6, loss 0.0018090715166181326\n",
            "epoch 6, loss 0.0034776104148477316\n",
            "epoch 6, loss 0.0232764333486557\n",
            "epoch 6, loss 0.006003852002322674\n",
            "epoch 6, loss 0.004194394685328007\n",
            "epoch 6, loss 0.009284245781600475\n",
            "epoch 6, loss 0.05336470901966095\n",
            "epoch 6, loss 0.07860945910215378\n",
            "\n",
            "Test set: Average loss: 0.06084464772297069, Accuracy: 0.9817\n",
            "\n",
            "epoch 7, loss 0.03638259693980217\n",
            "epoch 7, loss 0.005726140458136797\n",
            "epoch 7, loss 0.006109198089689016\n",
            "epoch 7, loss 0.01232228148728609\n",
            "epoch 7, loss 0.003901562886312604\n",
            "epoch 7, loss 0.00968387071043253\n",
            "epoch 7, loss 0.012191006913781166\n",
            "epoch 7, loss 0.013662111945450306\n",
            "epoch 7, loss 0.01813056506216526\n",
            "epoch 7, loss 0.001913821091875434\n",
            "\n",
            "Test set: Average loss: 0.06576783170178532, Accuracy: 0.9806\n",
            "\n",
            "epoch 8, loss 0.01322026364505291\n",
            "epoch 8, loss 0.002829018048942089\n",
            "epoch 8, loss 0.004050835035741329\n",
            "epoch 8, loss 0.001925495220348239\n",
            "epoch 8, loss 0.0038806265220046043\n",
            "epoch 8, loss 0.019877664744853973\n",
            "epoch 8, loss 0.0037804138846695423\n",
            "epoch 8, loss 0.00728470366448164\n",
            "epoch 8, loss 0.0037893950939178467\n",
            "epoch 8, loss 0.006086047273129225\n",
            "\n",
            "Test set: Average loss: 0.05541453271092032, Accuracy: 0.9829\n",
            "\n",
            "epoch 9, loss 0.0024771317839622498\n",
            "epoch 9, loss 0.000916045333724469\n",
            "epoch 9, loss 0.0012251520529389381\n",
            "epoch 9, loss 0.0007427040836773813\n",
            "epoch 9, loss 0.023697495460510254\n",
            "epoch 9, loss 0.0019165732664987445\n",
            "epoch 9, loss 0.0008513103239238262\n",
            "epoch 9, loss 0.00424569845199585\n",
            "epoch 9, loss 0.001872802386060357\n",
            "epoch 9, loss 0.00147727329749614\n",
            "\n",
            "Test set: Average loss: 0.05796943247076124, Accuracy: 0.9836\n",
            "\n",
            "epoch 10, loss 0.06915433704853058\n",
            "epoch 10, loss 0.00305441883392632\n",
            "epoch 10, loss 0.0009358195820823312\n",
            "epoch 10, loss 0.002201399765908718\n",
            "epoch 10, loss 0.0012452022638171911\n",
            "epoch 10, loss 0.0016076622996479273\n",
            "epoch 10, loss 0.03123241662979126\n",
            "epoch 10, loss 0.0027831343468278646\n",
            "epoch 10, loss 0.0032661398872733116\n",
            "epoch 10, loss 0.003623740514740348\n",
            "\n",
            "Test set: Average loss: 0.05698918559816666, Accuracy: 0.9835\n",
            "\n"
          ]
        }
      ],
      "source": [
        "model = Net()\n",
        "optimizer = optim.SGD(model.parameters(), lr=0.01, momentum=0.9)\n",
        "nb_epoch = 10\n",
        "for epoch in range(1, nb_epoch + 1):\n",
        "        # --- START CODE HERE\n",
        "        train(model, train_loader, optimizer, epoch)\n",
        "        test(model, test_loader)\n",
        "        # --- END CODE HERE"
      ]
    }
  ],
  "metadata": {
    "colab": {
      "provenance": []
    },
    "kernelspec": {
      "display_name": "Python 3",
      "language": "python",
      "name": "python3"
    },
    "language_info": {
      "codemirror_mode": {
        "name": "ipython",
        "version": 3
      },
      "file_extension": ".py",
      "mimetype": "text/x-python",
      "name": "python",
      "nbconvert_exporter": "python",
      "pygments_lexer": "ipython3",
      "version": "3.10.12"
    },
    "toc": {
      "base_numbering": 1,
      "nav_menu": {},
      "number_sections": true,
      "sideBar": true,
      "skip_h1_title": false,
      "title_cell": "Table of Contents",
      "title_sidebar": "Contents",
      "toc_cell": false,
      "toc_position": {
        "height": "calc(100% - 180px)",
        "left": "10px",
        "top": "150px",
        "width": "165px"
      },
      "toc_section_display": true,
      "toc_window_display": false
    }
  },
  "nbformat": 4,
  "nbformat_minor": 0
}
